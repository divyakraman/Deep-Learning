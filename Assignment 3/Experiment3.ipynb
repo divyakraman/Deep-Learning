{
  "nbformat": 4,
  "nbformat_minor": 0,
  "metadata": {
    "colab": {
      "name": "Experiment3.ipynb",
      "version": "0.3.2",
      "provenance": [],
      "collapsed_sections": []
    },
    "kernelspec": {
      "name": "python3",
      "display_name": "Python 3"
    },
    "accelerator": "GPU"
  },
  "cells": [
    {
      "metadata": {
        "id": "9MKRpVijqQl8",
        "colab_type": "code",
        "colab": {
          "base_uri": "https://localhost:8080/",
          "height": 343
        },
        "outputId": "f055fe79-9df8-4d4b-da8b-64e0041a5d1e"
      },
      "cell_type": "code",
      "source": [
        "!pip install torch torchvision tqdm\n",
        "import torch\n",
        "import torchvision\n",
        "import torchvision.transforms as transforms\n",
        "import torch.nn as nn\n",
        "import torch.nn.functional as F\n",
        "import torch.optim as optim\n",
        "from tqdm import tqdm\n",
        "from torchvision.models import resnet18\n",
        "import numpy as np"
      ],
      "execution_count": 3,
      "outputs": [
        {
          "output_type": "stream",
          "text": [
            "Collecting torch\n",
            "\u001b[?25l  Downloading https://files.pythonhosted.org/packages/49/0e/e382bcf1a6ae8225f50b99cc26effa2d4cc6d66975ccf3fa9590efcbedce/torch-0.4.1-cp36-cp36m-manylinux1_x86_64.whl (519.5MB)\n",
            "\u001b[K    100% |████████████████████████████████| 519.5MB 30kB/s \n",
            "tcmalloc: large alloc 1073750016 bytes == 0x597b4000 @  0x7f58377bb2a4 0x594e17 0x626104 0x51190a 0x4f5277 0x510c78 0x5119bd 0x4f5277 0x4f3338 0x510fb0 0x5119bd 0x4f5277 0x4f3338 0x510fb0 0x5119bd 0x4f5277 0x4f3338 0x510fb0 0x5119bd 0x4f6070 0x510c78 0x5119bd 0x4f5277 0x4f3338 0x510fb0 0x5119bd 0x4f6070 0x4f3338 0x510fb0 0x5119bd 0x4f6070\n",
            "\u001b[?25hCollecting torchvision\n",
            "\u001b[?25l  Downloading https://files.pythonhosted.org/packages/ca/0d/f00b2885711e08bd71242ebe7b96561e6f6d01fdb4b9dcf4d37e2e13c5e1/torchvision-0.2.1-py2.py3-none-any.whl (54kB)\n",
            "\u001b[K    100% |████████████████████████████████| 61kB 20.7MB/s \n",
            "\u001b[?25hRequirement already satisfied: tqdm in /usr/local/lib/python3.6/dist-packages (4.27.0)\n",
            "Collecting pillow>=4.1.1 (from torchvision)\n",
            "\u001b[?25l  Downloading https://files.pythonhosted.org/packages/62/94/5430ebaa83f91cc7a9f687ff5238e26164a779cca2ef9903232268b0a318/Pillow-5.3.0-cp36-cp36m-manylinux1_x86_64.whl (2.0MB)\n",
            "\u001b[K    100% |████████████████████████████████| 2.0MB 4.5MB/s \n",
            "\u001b[?25hRequirement already satisfied: six in /usr/local/lib/python3.6/dist-packages (from torchvision) (1.11.0)\n",
            "Requirement already satisfied: numpy in /usr/local/lib/python3.6/dist-packages (from torchvision) (1.14.6)\n",
            "Installing collected packages: torch, pillow, torchvision\n",
            "  Found existing installation: Pillow 4.0.0\n",
            "    Uninstalling Pillow-4.0.0:\n",
            "      Successfully uninstalled Pillow-4.0.0\n",
            "Successfully installed pillow-5.3.0 torch-0.4.1 torchvision-0.2.1\n"
          ],
          "name": "stdout"
        }
      ]
    },
    {
      "metadata": {
        "id": "kTMpH5tVqZvG",
        "colab_type": "code",
        "colab": {
          "base_uri": "https://localhost:8080/",
          "height": 119
        },
        "outputId": "1beb2e81-ef2b-4e4a-cf58-e73803cce9a2"
      },
      "cell_type": "code",
      "source": [
        "transform = transforms.Compose([transforms.Resize((224,224)),transforms.ToTensor(),transforms.Normalize((0.5, 0.5, 0.5), (0.5, 0.5, 0.5))])\n",
        "trainset = torchvision.datasets.CIFAR10(root='./data', train=True,download=True, transform=transform)\n",
        "testset = torchvision.datasets.CIFAR10(root='./data', train=False,download=True, transform=transform)\n",
        "transform1 = transforms.Compose([transforms.RandomRotation(90), transforms.Resize((224,224)), transforms.ToTensor(),transforms.Normalize((0.5, 0.5, 0.5), (0.5, 0.5, 0.5))])\n",
        "trainset1 = torchvision.datasets.CIFAR10(root='./data', train=True,download=True, transform=transform1)\n",
        "transform2 = transforms.Compose([transforms.RandomHorizontalFlip(p=0.5), transforms.Resize((224,224)), transforms.ToTensor(),transforms.Normalize((0.5, 0.5, 0.5), (0.5, 0.5, 0.5))])\n",
        "trainset2 = torchvision.datasets.CIFAR10(root='./data', train=True,download=True, transform=transform2)\n",
        "transform3 = transforms.Compose([transforms.RandomAffine(0,(0.4,0.4),None,30,False,0), transforms.Resize((224,224)), transforms.ToTensor(),transforms.Normalize((0.5, 0.5, 0.5), (0.5, 0.5, 0.5))])\n",
        "trainset3 = torchvision.datasets.CIFAR10(root='./data', train=True,download=True, transform=transform3)\n",
        "transform4 = transforms.Compose([transforms.RandomAffine(0,(0.4,0.4),None,30,False,0), transforms.Resize((224,224)), transforms.ToTensor(),transforms.Normalize((0.5, 0.5, 0.5), (0.5, 0.5, 0.5))])\n",
        "trainset4 = torchvision.datasets.CIFAR10(root='./data', train=True,download=True, transform=transform4)\n"
      ],
      "execution_count": 4,
      "outputs": [
        {
          "output_type": "stream",
          "text": [
            "Downloading https://www.cs.toronto.edu/~kriz/cifar-10-python.tar.gz to ./data/cifar-10-python.tar.gz\n",
            "Files already downloaded and verified\n",
            "Files already downloaded and verified\n",
            "Files already downloaded and verified\n",
            "Files already downloaded and verified\n",
            "Files already downloaded and verified\n"
          ],
          "name": "stdout"
        }
      ]
    },
    {
      "metadata": {
        "id": "V-vM2Kp2qkja",
        "colab_type": "code",
        "colab": {}
      },
      "cell_type": "code",
      "source": [
        "index = []\n",
        "i=-1\n",
        "train_Y = []\n",
        "for image,label in trainset:\n",
        "  i=i+1\n",
        "  if(sum(np.asarray(train_Y)==label)<500):\n",
        "    index.append(i)\n",
        "    train_Y.append(label)\n",
        "  if(i>5400):\n",
        "    break;\n",
        "index = np.asarray(index)"
      ],
      "execution_count": 0,
      "outputs": []
    },
    {
      "metadata": {
        "id": "_X-M-F2U96_7",
        "colab_type": "code",
        "colab": {
          "base_uri": "https://localhost:8080/",
          "height": 34
        },
        "outputId": "025c3e1c-20da-4e69-e151-0aee471c9a66"
      },
      "cell_type": "code",
      "source": [
        "index"
      ],
      "execution_count": 9,
      "outputs": [
        {
          "output_type": "execute_result",
          "data": {
            "text/plain": [
              "array([   0,    1,    2, ..., 5356, 5387, 5392])"
            ]
          },
          "metadata": {
            "tags": []
          },
          "execution_count": 9
        }
      ]
    },
    {
      "metadata": {
        "id": "SX4A-FQ_CaqA",
        "colab_type": "code",
        "colab": {}
      },
      "cell_type": "code",
      "source": [
        "classes = ('plane', 'car', 'bird', 'cat','deer', 'dog', 'frog', 'horse', 'ship', 'truck')\n",
        "def train(epoch, index, optimizer, criterion):\n",
        "    running_loss = 0.0\n",
        "    k=0\n",
        "    while(k<len(index)):#enumerate(tqdm(trainloader), 0):\n",
        "        # get the inputs\n",
        "        inputs = []\n",
        "        labels=[]\n",
        "        for j in range(20):\n",
        "          i=index[k]\n",
        "          inputs.append(trainset[i][0])\n",
        "          inputs.append(trainset1[i][0])\n",
        "          inputs.append(trainset2[i][0])\n",
        "          inputs.append(trainset3[i][0])\n",
        "          inputs.append(trainset4[i][0])\n",
        "          labels.append(trainset[i][1])\n",
        "          labels.append(trainset1[i][1])\n",
        "          labels.append(trainset2[i][1])\n",
        "          labels.append(trainset3[i][1])\n",
        "          labels.append(trainset4[i][1])\n",
        "          k=k+1\n",
        "        inputs=torch.stack(inputs)\n",
        "        labels=torch.tensor(np.asarray(labels))\n",
        "        if torch.cuda.is_available():\n",
        "            inputs, labels = inputs.cuda(), labels.cuda()\n",
        "\n",
        "        # zero the parameter gradients\n",
        "        optimizer.zero_grad()\n",
        "\n",
        "        # forward + backward + optimize\n",
        "        outputs = model(inputs)\n",
        "        loss = criterion(outputs, labels)\n",
        "        loss.backward()\n",
        "        optimizer.step()\n",
        "\n",
        "        # print statistics\n",
        "        running_loss += loss.item()\n",
        "\n",
        "    print('epoch %d training loss: %.3f' %\n",
        "            (epoch + 1, running_loss / 250))  \n",
        "def test(test_images, test_labels, model):\n",
        "    correct = 0\n",
        "    total = 0\n",
        "    with torch.no_grad():\n",
        "        for i in range(len(test_labels)):#tqdm(testloader)\n",
        "            images=torch.stack(test_images[i])\n",
        "            labels=torch.tensor(np.asarray(test_labels[i]))\n",
        "            if torch.cuda.is_available():\n",
        "                images, labels = images.cuda(), labels.cuda()        \n",
        "            outputs = model(images)\n",
        "            _, predicted = torch.max(outputs.data, 1)\n",
        "            total += labels.size(0)\n",
        "            correct += (predicted == labels).sum().item()\n",
        "            #print(predicted,labels)\n",
        "\n",
        "    print(correct,total)\n",
        "    print('Accuracy of the network on the 1000 test images: %d %%' % (\n",
        "                                    100 * correct / total))\n",
        "    \n",
        "def classwise_test(test_images, test_labels, model):\n",
        "########################################################################\n",
        "# class-wise accuracy\n",
        "\n",
        "    class_correct = list(0. for i in range(10))\n",
        "    class_total = list(0. for i in range(10))\n",
        "    with torch.no_grad():\n",
        "        for i in range(len(test_labels)):#tqdm(testloader):\n",
        "            images=torch.stack(test_images[i])\n",
        "            labels=torch.tensor(np.asarray(test_labels[i]))\n",
        "            if torch.cuda.is_available():\n",
        "                images, labels = images.cuda(), labels.cuda()        \n",
        "            outputs = model(images)\n",
        "            _, predicted = torch.max(outputs, 1)\n",
        "            c = (predicted == labels).squeeze()\n",
        "            #print(c)\n",
        "            for i in range(4):\n",
        "                label = labels[i]\n",
        "                class_correct[label] += c[i].item()\n",
        "                class_total[label] += 1\n",
        "\n",
        "    for i in range(10):\n",
        "        #print(class_correct[i],class_total[i])\n",
        "        print('Accuracy of %5s : %2d %%' % (\n",
        "            classes[i], 100 * class_correct[i] / class_total[i]))\n"
      ],
      "execution_count": 0,
      "outputs": []
    },
    {
      "metadata": {
        "id": "-b95IFwRJXUi",
        "colab_type": "code",
        "colab": {}
      },
      "cell_type": "code",
      "source": [
        "test_X = []\n",
        "test_Y=[]\n",
        "i=0\n",
        "for image,label in testset:\n",
        "  if(sum(np.asarray(test_Y)==label)<100):\n",
        "    test_X.append(image)\n",
        "    test_Y.append(label)\n",
        "    i=i+1\n",
        "  if(i>1500):\n",
        "    break;\n",
        "i=0\n",
        "test_images=[]\n",
        "test_labels=[]\n",
        "while(i<len(test_X)):\n",
        "  temp_im=[]\n",
        "  temp_labels=[]\n",
        "  for j in range(4):\n",
        "    temp_im.append(test_X[i])\n",
        "    temp_labels.append(test_Y[i])\n",
        "    i=i+1\n",
        "  test_images.append(temp_im)\n",
        "  test_labels.append(temp_labels)"
      ],
      "execution_count": 0,
      "outputs": []
    },
    {
      "metadata": {
        "id": "0mR3lPngJvl_",
        "colab_type": "code",
        "colab": {
          "base_uri": "https://localhost:8080/",
          "height": 2431
        },
        "outputId": "21466cfd-167c-4d47-af86-728fa9b80aa5"
      },
      "cell_type": "code",
      "source": [
        "model = resnet18(num_classes=10)\n",
        "num_epochs = 10\n",
        "learning_rate = 0.01\n",
        "# transfer the model to GPU\n",
        "if torch.cuda.is_available():\n",
        "    model = model.cuda()\n",
        "    print(\"Using GPU\")\n",
        "\n",
        "criterion = nn.CrossEntropyLoss()\n",
        "optimizer = optim.SGD(model.parameters(), lr=learning_rate, momentum=0.9, weight_decay=0.01)\n",
        "for epoch in range(num_epochs):  # loop over the dataset multiple times\n",
        "    print('epoch ', epoch + 1)\n",
        "    train(epoch, index, optimizer, criterion)\n",
        "    test(test_images, test_labels, model)\n",
        "    classwise_test(test_images, test_labels, model)\n",
        "    #torch.save(model.state_dict(), './models/model-'+str(epoch)+'.pth')\n",
        "\n",
        "print('Finished Training')"
      ],
      "execution_count": 18,
      "outputs": [
        {
          "output_type": "stream",
          "text": [
            "Using GPU\n",
            "epoch  1\n",
            "epoch 1 training loss: 22.298\n",
            "164 1000\n",
            "Accuracy of the network on the 1000 test images: 16 %\n",
            "Accuracy of plane :  0 %\n",
            "Accuracy of   car : 87 %\n",
            "Accuracy of  bird :  0 %\n",
            "Accuracy of   cat : 22 %\n",
            "Accuracy of  deer :  0 %\n",
            "Accuracy of   dog : 21 %\n",
            "Accuracy of  frog :  0 %\n",
            "Accuracy of horse : 34 %\n",
            "Accuracy of  ship :  0 %\n",
            "Accuracy of truck :  0 %\n",
            "epoch  2\n",
            "epoch 2 training loss: 19.947\n",
            "191 1000\n",
            "Accuracy of the network on the 1000 test images: 19 %\n",
            "Accuracy of plane :  1 %\n",
            "Accuracy of   car : 70 %\n",
            "Accuracy of  bird :  0 %\n",
            "Accuracy of   cat :  8 %\n",
            "Accuracy of  deer :  0 %\n",
            "Accuracy of   dog : 42 %\n",
            "Accuracy of  frog :  1 %\n",
            "Accuracy of horse : 61 %\n",
            "Accuracy of  ship :  8 %\n",
            "Accuracy of truck :  0 %\n",
            "epoch  3\n",
            "epoch 3 training loss: 18.993\n",
            "203 1000\n",
            "Accuracy of the network on the 1000 test images: 20 %\n",
            "Accuracy of plane :  5 %\n",
            "Accuracy of   car : 80 %\n",
            "Accuracy of  bird :  0 %\n",
            "Accuracy of   cat :  8 %\n",
            "Accuracy of  deer :  0 %\n",
            "Accuracy of   dog : 54 %\n",
            "Accuracy of  frog :  2 %\n",
            "Accuracy of horse : 41 %\n",
            "Accuracy of  ship : 13 %\n",
            "Accuracy of truck :  0 %\n",
            "epoch  4\n",
            "epoch 4 training loss: 18.315\n",
            "201 1000\n",
            "Accuracy of the network on the 1000 test images: 20 %\n",
            "Accuracy of plane :  8 %\n",
            "Accuracy of   car : 69 %\n",
            "Accuracy of  bird :  0 %\n",
            "Accuracy of   cat :  6 %\n",
            "Accuracy of  deer :  4 %\n",
            "Accuracy of   dog : 60 %\n",
            "Accuracy of  frog :  1 %\n",
            "Accuracy of horse : 40 %\n",
            "Accuracy of  ship : 12 %\n",
            "Accuracy of truck :  1 %\n",
            "epoch  5\n",
            "epoch 5 training loss: 17.672\n",
            "227 1000\n",
            "Accuracy of the network on the 1000 test images: 22 %\n",
            "Accuracy of plane : 14 %\n",
            "Accuracy of   car : 76 %\n",
            "Accuracy of  bird :  0 %\n",
            "Accuracy of   cat :  2 %\n",
            "Accuracy of  deer :  4 %\n",
            "Accuracy of   dog : 65 %\n",
            "Accuracy of  frog :  4 %\n",
            "Accuracy of horse : 37 %\n",
            "Accuracy of  ship : 18 %\n",
            "Accuracy of truck :  7 %\n",
            "epoch  6\n",
            "epoch 6 training loss: 16.991\n",
            "213 1000\n",
            "Accuracy of the network on the 1000 test images: 21 %\n",
            "Accuracy of plane : 12 %\n",
            "Accuracy of   car : 67 %\n",
            "Accuracy of  bird :  0 %\n",
            "Accuracy of   cat :  5 %\n",
            "Accuracy of  deer :  3 %\n",
            "Accuracy of   dog : 58 %\n",
            "Accuracy of  frog :  1 %\n",
            "Accuracy of horse : 42 %\n",
            "Accuracy of  ship : 11 %\n",
            "Accuracy of truck : 14 %\n",
            "epoch  7\n",
            "epoch 7 training loss: 16.673\n",
            "251 1000\n",
            "Accuracy of the network on the 1000 test images: 25 %\n",
            "Accuracy of plane : 23 %\n",
            "Accuracy of   car : 58 %\n",
            "Accuracy of  bird :  0 %\n",
            "Accuracy of   cat :  8 %\n",
            "Accuracy of  deer :  3 %\n",
            "Accuracy of   dog : 62 %\n",
            "Accuracy of  frog :  1 %\n",
            "Accuracy of horse : 41 %\n",
            "Accuracy of  ship : 25 %\n",
            "Accuracy of truck : 30 %\n",
            "epoch  8\n",
            "epoch 8 training loss: 16.040\n",
            "273 1000\n",
            "Accuracy of the network on the 1000 test images: 27 %\n",
            "Accuracy of plane : 35 %\n",
            "Accuracy of   car : 59 %\n",
            "Accuracy of  bird :  1 %\n",
            "Accuracy of   cat :  7 %\n",
            "Accuracy of  deer :  3 %\n",
            "Accuracy of   dog : 61 %\n",
            "Accuracy of  frog :  3 %\n",
            "Accuracy of horse : 41 %\n",
            "Accuracy of  ship : 29 %\n",
            "Accuracy of truck : 34 %\n",
            "epoch  9\n",
            "epoch 9 training loss: 15.643\n",
            "281 1000\n",
            "Accuracy of the network on the 1000 test images: 28 %\n",
            "Accuracy of plane : 29 %\n",
            "Accuracy of   car : 60 %\n",
            "Accuracy of  bird :  1 %\n",
            "Accuracy of   cat : 11 %\n",
            "Accuracy of  deer :  4 %\n",
            "Accuracy of   dog : 59 %\n",
            "Accuracy of  frog :  3 %\n",
            "Accuracy of horse : 44 %\n",
            "Accuracy of  ship : 36 %\n",
            "Accuracy of truck : 34 %\n",
            "epoch  10\n",
            "epoch 10 training loss: 15.221\n",
            "340 1000\n",
            "Accuracy of the network on the 1000 test images: 34 %\n",
            "Accuracy of plane : 48 %\n",
            "Accuracy of   car : 66 %\n",
            "Accuracy of  bird :  2 %\n",
            "Accuracy of   cat : 11 %\n",
            "Accuracy of  deer :  4 %\n",
            "Accuracy of   dog : 54 %\n",
            "Accuracy of  frog : 12 %\n",
            "Accuracy of horse : 66 %\n",
            "Accuracy of  ship : 40 %\n",
            "Accuracy of truck : 37 %\n",
            "Finished Training\n"
          ],
          "name": "stdout"
        }
      ]
    },
    {
      "metadata": {
        "id": "h1TIeRx6minI",
        "colab_type": "code",
        "colab": {
          "base_uri": "https://localhost:8080/",
          "height": 119
        },
        "outputId": "87b82de9-1fd3-46a8-c391-76b4c90cc945"
      },
      "cell_type": "code",
      "source": [
        "transform = transforms.Compose([transforms.Resize((224,224)),transforms.ToTensor(),transforms.Normalize((0.5, 0.5, 0.5), (0.5, 0.5, 0.5))])\n",
        "trainset = torchvision.datasets.CIFAR10(root='./data', train=True,download=True, transform=transform)\n",
        "testset = torchvision.datasets.CIFAR10(root='./data', train=False,download=True, transform=transform)\n",
        "transform1 = transforms.Compose([transforms.RandomRotation(90), transforms.Resize((224,224)), transforms.ToTensor(),transforms.Normalize((0.5, 0.5, 0.5), (0.5, 0.5, 0.5))])\n",
        "transform1 = transforms.Compose([transforms.RandomRotation(90), transforms.Resize((224,224)), transforms.ToTensor(),transforms.Normalize((0.5, 0.5, 0.5), (0.5, 0.5, 0.5))])\n",
        "trainset1 = torchvision.datasets.CIFAR10(root='./data', train=True,download=True, transform=transform1)\n",
        "transform2 = transforms.Compose([transforms.RandomHorizontalFlip(p=0.5), transforms.Resize((224,224)), transforms.ToTensor(),transforms.Normalize((0.5, 0.5, 0.5), (0.5, 0.5, 0.5))])\n",
        "trainset2 = torchvision.datasets.CIFAR10(root='./data', train=True,download=True, transform=transform2)\n",
        "transform3 = transforms.Compose([transforms.RandomRotation(90), transforms.Resize((224,224)), transforms.ToTensor(),transforms.Normalize((0.5, 0.5, 0.5), (0.5, 0.5, 0.5))])\n",
        "trainset3 = torchvision.datasets.CIFAR10(root='./data', train=True,download=True, transform=transform3)\n",
        "transform4 = transforms.Compose([transforms.RandomRotation(90), transforms.Resize((224,224)), transforms.ToTensor(),transforms.Normalize((0.5, 0.5, 0.5), (0.5, 0.5, 0.5))])\n",
        "trainset4 = torchvision.datasets.CIFAR10(root='./data', train=True,download=True, transform=transform4)"
      ],
      "execution_count": 9,
      "outputs": [
        {
          "output_type": "stream",
          "text": [
            "Files already downloaded and verified\n",
            "Files already downloaded and verified\n",
            "Files already downloaded and verified\n",
            "Files already downloaded and verified\n",
            "Files already downloaded and verified\n",
            "Files already downloaded and verified\n"
          ],
          "name": "stdout"
        }
      ]
    },
    {
      "metadata": {
        "id": "mC5LM7yvQ0Sw",
        "colab_type": "code",
        "colab": {
          "base_uri": "https://localhost:8080/",
          "height": 2431
        },
        "outputId": "9ff4cd3c-ebc3-4ecc-d9ef-aeb4bf0a7e4f"
      },
      "cell_type": "code",
      "source": [
        "model = resnet18(num_classes=10)\n",
        "num_epochs = 10\n",
        "learning_rate = 0.07\n",
        "# transfer the model to GPU\n",
        "if torch.cuda.is_available():\n",
        "    model = model.cuda()\n",
        "    print(\"Using GPU\")\n",
        "\n",
        "criterion = nn.CrossEntropyLoss()\n",
        "optimizer = optim.SGD(model.parameters(), lr=learning_rate, momentum=0.9, weight_decay=0.001)\n",
        "for epoch in range(num_epochs):  # loop over the dataset multiple times\n",
        "    print('epoch ', epoch + 1)\n",
        "    train(epoch, index, optimizer, criterion)\n",
        "    test(test_images, test_labels, model)\n",
        "    classwise_test(test_images, test_labels, model)\n",
        "    #torch.save(model.state_dict(), './models/model-'+str(epoch)+'.pth')\n",
        "\n",
        "print('Finished Training')"
      ],
      "execution_count": 8,
      "outputs": [
        {
          "output_type": "stream",
          "text": [
            "Using GPU\n",
            "epoch  1\n",
            "epoch 1 training loss: 2.529\n",
            "132 1000\n",
            "Accuracy of the network on the 1000 test images: 13 %\n",
            "Accuracy of plane :  4 %\n",
            "Accuracy of   car : 68 %\n",
            "Accuracy of  bird :  0 %\n",
            "Accuracy of   cat :  7 %\n",
            "Accuracy of  deer :  0 %\n",
            "Accuracy of   dog : 36 %\n",
            "Accuracy of  frog :  0 %\n",
            "Accuracy of horse : 17 %\n",
            "Accuracy of  ship :  0 %\n",
            "Accuracy of truck :  0 %\n",
            "epoch  2\n",
            "epoch 2 training loss: 2.067\n",
            "178 1000\n",
            "Accuracy of the network on the 1000 test images: 17 %\n",
            "Accuracy of plane :  2 %\n",
            "Accuracy of   car : 70 %\n",
            "Accuracy of  bird :  0 %\n",
            "Accuracy of   cat : 13 %\n",
            "Accuracy of  deer :  0 %\n",
            "Accuracy of   dog : 44 %\n",
            "Accuracy of  frog :  0 %\n",
            "Accuracy of horse : 46 %\n",
            "Accuracy of  ship :  3 %\n",
            "Accuracy of truck :  0 %\n",
            "epoch  3\n",
            "epoch 3 training loss: 1.993\n",
            "199 1000\n",
            "Accuracy of the network on the 1000 test images: 19 %\n",
            "Accuracy of plane :  6 %\n",
            "Accuracy of   car : 76 %\n",
            "Accuracy of  bird :  0 %\n",
            "Accuracy of   cat :  7 %\n",
            "Accuracy of  deer :  0 %\n",
            "Accuracy of   dog : 50 %\n",
            "Accuracy of  frog :  5 %\n",
            "Accuracy of horse : 48 %\n",
            "Accuracy of  ship :  7 %\n",
            "Accuracy of truck :  0 %\n",
            "epoch  4\n",
            "epoch 4 training loss: 1.955\n",
            "204 1000\n",
            "Accuracy of the network on the 1000 test images: 20 %\n",
            "Accuracy of plane :  2 %\n",
            "Accuracy of   car : 77 %\n",
            "Accuracy of  bird :  0 %\n",
            "Accuracy of   cat :  7 %\n",
            "Accuracy of  deer :  1 %\n",
            "Accuracy of   dog : 51 %\n",
            "Accuracy of  frog :  9 %\n",
            "Accuracy of horse : 45 %\n",
            "Accuracy of  ship : 12 %\n",
            "Accuracy of truck :  0 %\n",
            "epoch  5\n",
            "epoch 5 training loss: 1.912\n",
            "214 1000\n",
            "Accuracy of the network on the 1000 test images: 21 %\n",
            "Accuracy of plane :  5 %\n",
            "Accuracy of   car : 80 %\n",
            "Accuracy of  bird :  0 %\n",
            "Accuracy of   cat :  0 %\n",
            "Accuracy of  deer :  2 %\n",
            "Accuracy of   dog : 49 %\n",
            "Accuracy of  frog : 16 %\n",
            "Accuracy of horse : 53 %\n",
            "Accuracy of  ship :  9 %\n",
            "Accuracy of truck :  0 %\n",
            "epoch  6\n",
            "epoch 6 training loss: 1.873\n",
            "231 1000\n",
            "Accuracy of the network on the 1000 test images: 23 %\n",
            "Accuracy of plane :  5 %\n",
            "Accuracy of   car : 81 %\n",
            "Accuracy of  bird :  0 %\n",
            "Accuracy of   cat :  5 %\n",
            "Accuracy of  deer :  7 %\n",
            "Accuracy of   dog : 53 %\n",
            "Accuracy of  frog : 13 %\n",
            "Accuracy of horse : 56 %\n",
            "Accuracy of  ship : 10 %\n",
            "Accuracy of truck :  1 %\n",
            "epoch  7\n",
            "epoch 7 training loss: 1.839\n",
            "263 1000\n",
            "Accuracy of the network on the 1000 test images: 26 %\n",
            "Accuracy of plane : 12 %\n",
            "Accuracy of   car : 83 %\n",
            "Accuracy of  bird :  0 %\n",
            "Accuracy of   cat :  8 %\n",
            "Accuracy of  deer :  4 %\n",
            "Accuracy of   dog : 56 %\n",
            "Accuracy of  frog : 14 %\n",
            "Accuracy of horse : 65 %\n",
            "Accuracy of  ship : 18 %\n",
            "Accuracy of truck :  3 %\n",
            "epoch  8\n",
            "epoch 8 training loss: 1.792\n",
            "290 1000\n",
            "Accuracy of the network on the 1000 test images: 29 %\n",
            "Accuracy of plane : 15 %\n",
            "Accuracy of   car : 87 %\n",
            "Accuracy of  bird :  0 %\n",
            "Accuracy of   cat :  3 %\n",
            "Accuracy of  deer :  8 %\n",
            "Accuracy of   dog : 60 %\n",
            "Accuracy of  frog : 26 %\n",
            "Accuracy of horse : 64 %\n",
            "Accuracy of  ship : 22 %\n",
            "Accuracy of truck :  5 %\n",
            "epoch  9\n",
            "epoch 9 training loss: 1.752\n",
            "290 1000\n",
            "Accuracy of the network on the 1000 test images: 29 %\n",
            "Accuracy of plane : 21 %\n",
            "Accuracy of   car : 87 %\n",
            "Accuracy of  bird :  0 %\n",
            "Accuracy of   cat :  4 %\n",
            "Accuracy of  deer : 10 %\n",
            "Accuracy of   dog : 54 %\n",
            "Accuracy of  frog : 25 %\n",
            "Accuracy of horse : 63 %\n",
            "Accuracy of  ship : 21 %\n",
            "Accuracy of truck :  5 %\n",
            "epoch  10\n",
            "epoch 10 training loss: 1.718\n",
            "296 1000\n",
            "Accuracy of the network on the 1000 test images: 29 %\n",
            "Accuracy of plane : 21 %\n",
            "Accuracy of   car : 88 %\n",
            "Accuracy of  bird :  0 %\n",
            "Accuracy of   cat :  8 %\n",
            "Accuracy of  deer :  9 %\n",
            "Accuracy of   dog : 58 %\n",
            "Accuracy of  frog : 17 %\n",
            "Accuracy of horse : 60 %\n",
            "Accuracy of  ship : 24 %\n",
            "Accuracy of truck : 11 %\n",
            "Finished Training\n"
          ],
          "name": "stdout"
        }
      ]
    },
    {
      "metadata": {
        "id": "O8goEPYNopeH",
        "colab_type": "code",
        "colab": {}
      },
      "cell_type": "code",
      "source": [
        "#Load imagenet pretrained model\n",
        "import torch.utils.model_zoo as model_zoo\n",
        "model_url = 'https://download.pytorch.org/models/resnet18-5c106cde.pth'\n",
        "#model.load_state_dict(model_zoo.load_url(model_url))\n",
        "a = model_zoo.load_url(model_url)\n",
        "del a['fc.weight']\n",
        "del a['fc.bias']\n",
        "import numpy as np\n",
        "b = np.random.uniform(-1,1,(10,512))\n",
        "b = torch.from_numpy(b)\n",
        "a.update({'fc.weight':b})\n",
        "b = np.random.uniform(-1,1,10)\n",
        "b = torch.from_numpy(b)\n",
        "a.update({'fc.bias':b})\n",
        "a['fc.bias'] = torch.tensor(a['fc.bias'], requires_grad=True)\n",
        "a['fc.weight'] = torch.tensor(a['fc.weight'], requires_grad=True)\n",
        "model.load_state_dict(a)"
      ],
      "execution_count": 0,
      "outputs": []
    },
    {
      "metadata": {
        "id": "c0VchsgeozRC",
        "colab_type": "code",
        "colab": {
          "base_uri": "https://localhost:8080/",
          "height": 2431
        },
        "outputId": "d0876d47-64ee-41c3-f81e-d9ed8f8d3679"
      },
      "cell_type": "code",
      "source": [
        "num_epochs = 10\n",
        "learning_rate = 0.0001\n",
        "# transfer the model to GPU\n",
        "if torch.cuda.is_available():\n",
        "    model = model.cuda()\n",
        "    print(\"Using GPU\")\n",
        "\n",
        "criterion = nn.CrossEntropyLoss()\n",
        "optimizer = optim.SGD(model.parameters(), lr=learning_rate, momentum=0.9, weight_decay=0.001)\n",
        "for epoch in range(num_epochs):  # loop over the dataset multiple times\n",
        "    print('epoch ', epoch + 1)\n",
        "    train(epoch, index, optimizer, criterion)\n",
        "    test(test_images, test_labels, model)\n",
        "    classwise_test(test_images, test_labels, model)\n",
        "    #torch.save(model.state_dict(), './models/model-'+str(epoch)+'.pth')\n",
        "\n",
        "print('Finished Training')"
      ],
      "execution_count": 12,
      "outputs": [
        {
          "output_type": "stream",
          "text": [
            "Using GPU\n",
            "epoch  1\n",
            "epoch 1 training loss: 6.667\n",
            "443 1000\n",
            "Accuracy of the network on the 1000 test images: 44 %\n",
            "Accuracy of plane : 50 %\n",
            "Accuracy of   car : 73 %\n",
            "Accuracy of  bird : 38 %\n",
            "Accuracy of   cat : 26 %\n",
            "Accuracy of  deer : 39 %\n",
            "Accuracy of   dog : 58 %\n",
            "Accuracy of  frog : 44 %\n",
            "Accuracy of horse : 53 %\n",
            "Accuracy of  ship : 31 %\n",
            "Accuracy of truck : 31 %\n",
            "epoch  2\n",
            "epoch 2 training loss: 1.781\n",
            "467 1000\n",
            "Accuracy of the network on the 1000 test images: 46 %\n",
            "Accuracy of plane : 51 %\n",
            "Accuracy of   car : 76 %\n",
            "Accuracy of  bird : 41 %\n",
            "Accuracy of   cat : 28 %\n",
            "Accuracy of  deer : 35 %\n",
            "Accuracy of   dog : 58 %\n",
            "Accuracy of  frog : 53 %\n",
            "Accuracy of horse : 52 %\n",
            "Accuracy of  ship : 31 %\n",
            "Accuracy of truck : 42 %\n",
            "epoch  3\n",
            "epoch 3 training loss: 1.136\n",
            "492 1000\n",
            "Accuracy of the network on the 1000 test images: 49 %\n",
            "Accuracy of plane : 49 %\n",
            "Accuracy of   car : 79 %\n",
            "Accuracy of  bird : 39 %\n",
            "Accuracy of   cat : 33 %\n",
            "Accuracy of  deer : 38 %\n",
            "Accuracy of   dog : 59 %\n",
            "Accuracy of  frog : 54 %\n",
            "Accuracy of horse : 54 %\n",
            "Accuracy of  ship : 37 %\n",
            "Accuracy of truck : 50 %\n",
            "epoch  4\n",
            "epoch 4 training loss: 0.911\n",
            "504 1000\n",
            "Accuracy of the network on the 1000 test images: 50 %\n",
            "Accuracy of plane : 50 %\n",
            "Accuracy of   car : 79 %\n",
            "Accuracy of  bird : 44 %\n",
            "Accuracy of   cat : 41 %\n",
            "Accuracy of  deer : 40 %\n",
            "Accuracy of   dog : 57 %\n",
            "Accuracy of  frog : 56 %\n",
            "Accuracy of horse : 50 %\n",
            "Accuracy of  ship : 39 %\n",
            "Accuracy of truck : 48 %\n",
            "epoch  5\n",
            "epoch 5 training loss: 0.782\n",
            "521 1000\n",
            "Accuracy of the network on the 1000 test images: 52 %\n",
            "Accuracy of plane : 53 %\n",
            "Accuracy of   car : 82 %\n",
            "Accuracy of  bird : 48 %\n",
            "Accuracy of   cat : 42 %\n",
            "Accuracy of  deer : 44 %\n",
            "Accuracy of   dog : 53 %\n",
            "Accuracy of  frog : 56 %\n",
            "Accuracy of horse : 54 %\n",
            "Accuracy of  ship : 41 %\n",
            "Accuracy of truck : 48 %\n",
            "epoch  6\n",
            "epoch 6 training loss: 0.707\n",
            "527 1000\n",
            "Accuracy of the network on the 1000 test images: 52 %\n",
            "Accuracy of plane : 51 %\n",
            "Accuracy of   car : 80 %\n",
            "Accuracy of  bird : 50 %\n",
            "Accuracy of   cat : 46 %\n",
            "Accuracy of  deer : 42 %\n",
            "Accuracy of   dog : 56 %\n",
            "Accuracy of  frog : 60 %\n",
            "Accuracy of horse : 50 %\n",
            "Accuracy of  ship : 42 %\n",
            "Accuracy of truck : 50 %\n",
            "epoch  7\n",
            "epoch 7 training loss: 0.640\n",
            "527 1000\n",
            "Accuracy of the network on the 1000 test images: 52 %\n",
            "Accuracy of plane : 54 %\n",
            "Accuracy of   car : 82 %\n",
            "Accuracy of  bird : 47 %\n",
            "Accuracy of   cat : 46 %\n",
            "Accuracy of  deer : 44 %\n",
            "Accuracy of   dog : 56 %\n",
            "Accuracy of  frog : 58 %\n",
            "Accuracy of horse : 52 %\n",
            "Accuracy of  ship : 40 %\n",
            "Accuracy of truck : 48 %\n",
            "epoch  8\n",
            "epoch 8 training loss: 0.596\n",
            "526 1000\n",
            "Accuracy of the network on the 1000 test images: 52 %\n",
            "Accuracy of plane : 55 %\n",
            "Accuracy of   car : 84 %\n",
            "Accuracy of  bird : 49 %\n",
            "Accuracy of   cat : 41 %\n",
            "Accuracy of  deer : 40 %\n",
            "Accuracy of   dog : 57 %\n",
            "Accuracy of  frog : 57 %\n",
            "Accuracy of horse : 51 %\n",
            "Accuracy of  ship : 44 %\n",
            "Accuracy of truck : 48 %\n",
            "epoch  9\n",
            "epoch 9 training loss: 0.557\n",
            "537 1000\n",
            "Accuracy of the network on the 1000 test images: 53 %\n",
            "Accuracy of plane : 58 %\n",
            "Accuracy of   car : 87 %\n",
            "Accuracy of  bird : 51 %\n",
            "Accuracy of   cat : 43 %\n",
            "Accuracy of  deer : 42 %\n",
            "Accuracy of   dog : 56 %\n",
            "Accuracy of  frog : 57 %\n",
            "Accuracy of horse : 50 %\n",
            "Accuracy of  ship : 46 %\n",
            "Accuracy of truck : 47 %\n",
            "epoch  10\n",
            "epoch 10 training loss: 0.521\n",
            "541 1000\n",
            "Accuracy of the network on the 1000 test images: 54 %\n",
            "Accuracy of plane : 57 %\n",
            "Accuracy of   car : 87 %\n",
            "Accuracy of  bird : 51 %\n",
            "Accuracy of   cat : 47 %\n",
            "Accuracy of  deer : 41 %\n",
            "Accuracy of   dog : 56 %\n",
            "Accuracy of  frog : 56 %\n",
            "Accuracy of horse : 49 %\n",
            "Accuracy of  ship : 46 %\n",
            "Accuracy of truck : 51 %\n",
            "Finished Training\n"
          ],
          "name": "stdout"
        }
      ]
    },
    {
      "metadata": {
        "id": "ggE7KtrAyxhC",
        "colab_type": "code",
        "colab": {}
      },
      "cell_type": "code",
      "source": [
        "testloader = torch.utils.data.DataLoader(testset, batch_size=4,shuffle=False, num_workers=2)\n",
        "def testfull(testloader, model):\n",
        "    correct = 0\n",
        "    total = 0\n",
        "    with torch.no_grad():\n",
        "        for data in testloader:#tqdm(testloader)\n",
        "            images, labels = data\n",
        "            if torch.cuda.is_available():\n",
        "                images, labels = images.cuda(), labels.cuda()        \n",
        "            outputs = model(images)\n",
        "            _, predicted = torch.max(outputs.data, 1)\n",
        "            total += labels.size(0)\n",
        "            correct += (predicted == labels).sum().item()\n",
        "\n",
        "    print('Accuracy of the network on the 10000 test images: %d %%' % (\n",
        "                                    100 * correct / total))\n",
        "    \n",
        "def classwise_testfull(testloader, model):\n",
        "########################################################################\n",
        "# class-wise accuracy\n",
        "\n",
        "    class_correct = list(0. for i in range(10))\n",
        "    class_total = list(0. for i in range(10))\n",
        "    with torch.no_grad():\n",
        "        for data in testloader:#tqdm(testloader):\n",
        "            images, labels = data\n",
        "            if torch.cuda.is_available():\n",
        "                images, labels = images.cuda(), labels.cuda()        \n",
        "            outputs = model(images)\n",
        "            _, predicted = torch.max(outputs, 1)\n",
        "            c = (predicted == labels).squeeze()\n",
        "            for i in range(4):\n",
        "                label = labels[i]\n",
        "                class_correct[label] += c[i].item()\n",
        "                class_total[label] += 1\n",
        "\n",
        "    for i in range(10):\n",
        "        print('Accuracy of %5s : %2d %%' % (\n",
        "            classes[i], 100 * class_correct[i] / class_total[i]))\n"
      ],
      "execution_count": 0,
      "outputs": []
    },
    {
      "metadata": {
        "id": "ySqCGoAu0e0m",
        "colab_type": "code",
        "colab": {
          "base_uri": "https://localhost:8080/",
          "height": 204
        },
        "outputId": "b1010e04-456b-4afe-cd63-0364011d995a"
      },
      "cell_type": "code",
      "source": [
        "testfull(testloader, model)\n",
        "classwise_testfull(testloader, model)"
      ],
      "execution_count": 15,
      "outputs": [
        {
          "output_type": "stream",
          "text": [
            "Accuracy of the network on the 10000 test images: 55 %\n",
            "Accuracy of plane : 64 %\n",
            "Accuracy of   car : 77 %\n",
            "Accuracy of  bird : 54 %\n",
            "Accuracy of   cat : 44 %\n",
            "Accuracy of  deer : 46 %\n",
            "Accuracy of   dog : 53 %\n",
            "Accuracy of  frog : 58 %\n",
            "Accuracy of horse : 55 %\n",
            "Accuracy of  ship : 47 %\n",
            "Accuracy of truck : 55 %\n"
          ],
          "name": "stdout"
        }
      ]
    },
    {
      "metadata": {
        "id": "ZKWZXqwS1KhX",
        "colab_type": "code",
        "colab": {
          "base_uri": "https://localhost:8080/",
          "height": 2431
        },
        "outputId": "2ef5a69c-e443-46a7-c5ce-eaf98e6a4eeb"
      },
      "cell_type": "code",
      "source": [
        "model=resnet18(num_classes=10)\n",
        "import torch.utils.model_zoo as model_zoo\n",
        "model_url = 'https://download.pytorch.org/models/resnet18-5c106cde.pth'\n",
        "a = model_zoo.load_url(model_url)\n",
        "del a['fc.weight']\n",
        "del a['fc.bias']\n",
        "b = np.random.uniform(-1,1,(10,512))\n",
        "b = torch.from_numpy(b)\n",
        "a.update({'fc.weight':b})\n",
        "b = np.random.uniform(-1,1,10)\n",
        "b = torch.from_numpy(b)\n",
        "a.update({'fc.bias':b})\n",
        "for k in a:\n",
        "  a[k] = torch.tensor(a[k], requires_grad=False)\n",
        "a['fc.bias'] = torch.tensor(a['fc.bias'], requires_grad=True)\n",
        "a['fc.weight'] = torch.tensor(a['fc.weight'], requires_grad=True)\n",
        "model.load_state_dict(a)\n",
        "num_epochs = 10\n",
        "learning_rate = 0.00001\n",
        "# transfer the model to GPU\n",
        "if torch.cuda.is_available():\n",
        "    model = model.cuda()\n",
        "    print(\"Using GPU\")\n",
        "\n",
        "criterion = nn.CrossEntropyLoss()\n",
        "optimizer = optim.SGD(model.parameters(), lr=learning_rate, momentum=0.9, weight_decay=0.0001)\n",
        "for epoch in range(num_epochs):  # loop over the dataset multiple times\n",
        "    print('epoch ', epoch + 1)\n",
        "    train(epoch, index, optimizer, criterion)\n",
        "    test(test_images, test_labels, model)\n",
        "    classwise_test(test_images, test_labels, model)\n",
        "    #torch.save(model.state_dict(), './models/model-'+str(epoch)+'.pth')\n",
        "\n",
        "print('Finished Training')"
      ],
      "execution_count": 12,
      "outputs": [
        {
          "output_type": "stream",
          "text": [
            "Using GPU\n",
            "epoch  1\n",
            "epoch 1 training loss: 17.411\n",
            "224 1000\n",
            "Accuracy of the network on the 1000 test images: 22 %\n",
            "Accuracy of plane : 19 %\n",
            "Accuracy of   car :  8 %\n",
            "Accuracy of  bird : 60 %\n",
            "Accuracy of   cat :  5 %\n",
            "Accuracy of  deer :  1 %\n",
            "Accuracy of   dog : 37 %\n",
            "Accuracy of  frog : 33 %\n",
            "Accuracy of horse : 20 %\n",
            "Accuracy of  ship : 18 %\n",
            "Accuracy of truck : 23 %\n",
            "epoch  2\n",
            "epoch 2 training loss: 7.835\n",
            "340 1000\n",
            "Accuracy of the network on the 1000 test images: 34 %\n",
            "Accuracy of plane : 42 %\n",
            "Accuracy of   car : 26 %\n",
            "Accuracy of  bird : 54 %\n",
            "Accuracy of   cat : 14 %\n",
            "Accuracy of  deer : 11 %\n",
            "Accuracy of   dog : 49 %\n",
            "Accuracy of  frog : 37 %\n",
            "Accuracy of horse : 36 %\n",
            "Accuracy of  ship : 34 %\n",
            "Accuracy of truck : 37 %\n",
            "epoch  3\n",
            "epoch 3 training loss: 5.313\n",
            "394 1000\n",
            "Accuracy of the network on the 1000 test images: 39 %\n",
            "Accuracy of plane : 47 %\n",
            "Accuracy of   car : 33 %\n",
            "Accuracy of  bird : 54 %\n",
            "Accuracy of   cat : 18 %\n",
            "Accuracy of  deer : 18 %\n",
            "Accuracy of   dog : 51 %\n",
            "Accuracy of  frog : 41 %\n",
            "Accuracy of horse : 45 %\n",
            "Accuracy of  ship : 39 %\n",
            "Accuracy of truck : 48 %\n",
            "epoch  4\n",
            "epoch 4 training loss: 4.154\n",
            "426 1000\n",
            "Accuracy of the network on the 1000 test images: 42 %\n",
            "Accuracy of plane : 48 %\n",
            "Accuracy of   car : 35 %\n",
            "Accuracy of  bird : 58 %\n",
            "Accuracy of   cat : 21 %\n",
            "Accuracy of  deer : 19 %\n",
            "Accuracy of   dog : 52 %\n",
            "Accuracy of  frog : 44 %\n",
            "Accuracy of horse : 51 %\n",
            "Accuracy of  ship : 46 %\n",
            "Accuracy of truck : 52 %\n",
            "epoch  5\n",
            "epoch 5 training loss: 3.378\n",
            "441 1000\n",
            "Accuracy of the network on the 1000 test images: 44 %\n",
            "Accuracy of plane : 53 %\n",
            "Accuracy of   car : 43 %\n",
            "Accuracy of  bird : 53 %\n",
            "Accuracy of   cat : 23 %\n",
            "Accuracy of  deer : 27 %\n",
            "Accuracy of   dog : 54 %\n",
            "Accuracy of  frog : 48 %\n",
            "Accuracy of horse : 51 %\n",
            "Accuracy of  ship : 42 %\n",
            "Accuracy of truck : 47 %\n",
            "epoch  6\n",
            "epoch 6 training loss: 2.933\n",
            "454 1000\n",
            "Accuracy of the network on the 1000 test images: 45 %\n",
            "Accuracy of plane : 51 %\n",
            "Accuracy of   car : 40 %\n",
            "Accuracy of  bird : 56 %\n",
            "Accuracy of   cat : 23 %\n",
            "Accuracy of  deer : 24 %\n",
            "Accuracy of   dog : 58 %\n",
            "Accuracy of  frog : 44 %\n",
            "Accuracy of horse : 56 %\n",
            "Accuracy of  ship : 47 %\n",
            "Accuracy of truck : 55 %\n",
            "epoch  7\n",
            "epoch 7 training loss: 2.500\n",
            "454 1000\n",
            "Accuracy of the network on the 1000 test images: 45 %\n",
            "Accuracy of plane : 50 %\n",
            "Accuracy of   car : 44 %\n",
            "Accuracy of  bird : 54 %\n",
            "Accuracy of   cat : 23 %\n",
            "Accuracy of  deer : 26 %\n",
            "Accuracy of   dog : 55 %\n",
            "Accuracy of  frog : 46 %\n",
            "Accuracy of horse : 57 %\n",
            "Accuracy of  ship : 44 %\n",
            "Accuracy of truck : 55 %\n",
            "epoch  8\n",
            "epoch 8 training loss: 2.248\n",
            "447 1000\n",
            "Accuracy of the network on the 1000 test images: 44 %\n",
            "Accuracy of plane : 51 %\n",
            "Accuracy of   car : 40 %\n",
            "Accuracy of  bird : 55 %\n",
            "Accuracy of   cat : 23 %\n",
            "Accuracy of  deer : 25 %\n",
            "Accuracy of   dog : 57 %\n",
            "Accuracy of  frog : 44 %\n",
            "Accuracy of horse : 56 %\n",
            "Accuracy of  ship : 44 %\n",
            "Accuracy of truck : 52 %\n",
            "epoch  9\n",
            "epoch 9 training loss: 1.990\n",
            "467 1000\n",
            "Accuracy of the network on the 1000 test images: 46 %\n",
            "Accuracy of plane : 52 %\n",
            "Accuracy of   car : 45 %\n",
            "Accuracy of  bird : 59 %\n",
            "Accuracy of   cat : 25 %\n",
            "Accuracy of  deer : 27 %\n",
            "Accuracy of   dog : 55 %\n",
            "Accuracy of  frog : 46 %\n",
            "Accuracy of horse : 55 %\n",
            "Accuracy of  ship : 47 %\n",
            "Accuracy of truck : 56 %\n",
            "epoch  10\n",
            "epoch 10 training loss: 1.830\n",
            "470 1000\n",
            "Accuracy of the network on the 1000 test images: 47 %\n",
            "Accuracy of plane : 53 %\n",
            "Accuracy of   car : 46 %\n",
            "Accuracy of  bird : 61 %\n",
            "Accuracy of   cat : 27 %\n",
            "Accuracy of  deer : 27 %\n",
            "Accuracy of   dog : 54 %\n",
            "Accuracy of  frog : 50 %\n",
            "Accuracy of horse : 53 %\n",
            "Accuracy of  ship : 45 %\n",
            "Accuracy of truck : 54 %\n",
            "Finished Training\n"
          ],
          "name": "stdout"
        }
      ]
    },
    {
      "metadata": {
        "id": "aX9iik1OjqN3",
        "colab_type": "code",
        "colab": {
          "base_uri": "https://localhost:8080/",
          "height": 204
        },
        "outputId": "2a3f9998-1965-4cf8-bc58-c3d1e846fd6c"
      },
      "cell_type": "code",
      "source": [
        "testfull(testloader, model)\n",
        "classwise_testfull(testloader, model)"
      ],
      "execution_count": 14,
      "outputs": [
        {
          "output_type": "stream",
          "text": [
            "Accuracy of the network on the 10000 test images: 47 %\n",
            "Accuracy of plane : 56 %\n",
            "Accuracy of   car : 45 %\n",
            "Accuracy of  bird : 60 %\n",
            "Accuracy of   cat : 21 %\n",
            "Accuracy of  deer : 27 %\n",
            "Accuracy of   dog : 56 %\n",
            "Accuracy of  frog : 54 %\n",
            "Accuracy of horse : 47 %\n",
            "Accuracy of  ship : 49 %\n",
            "Accuracy of truck : 54 %\n"
          ],
          "name": "stdout"
        }
      ]
    },
    {
      "metadata": {
        "id": "oa2g2uYVxRBe",
        "colab_type": "code",
        "colab": {}
      },
      "cell_type": "code",
      "source": [
        "import matplotlib.pyplot as plt\n",
        "%matplotlib inline"
      ],
      "execution_count": 0,
      "outputs": []
    },
    {
      "metadata": {
        "id": "sLPMoTlvzjo3",
        "colab_type": "code",
        "colab": {
          "base_uri": "https://localhost:8080/",
          "height": 2139
        },
        "outputId": "807f09bb-c298-416e-c78b-2a04a420af3a"
      },
      "cell_type": "code",
      "source": [
        "xaxis = np.array([1,2,3,4,5,6,7,8,9,10])\n",
        "print(\"Training error: training from scratch\")\n",
        "plt.figure()\n",
        "y = np.array([2.22,1.99,1.89,1.83,1.76,1.69,1.66,1.60,1.56,1.52])\n",
        "plt.plot(xaxis,y)\n",
        "plt.show()\n",
        "print(\"Test accuracy: training from scratch\")\n",
        "plt.figure()\n",
        "y = np.array([16,19,20,20,22,21,25,27,28,34])\n",
        "plt.plot(xaxis,y)\n",
        "plt.show()\n",
        "print(\"Training error: training from scratch\")\n",
        "plt.figure()\n",
        "y = np.array([2.52,2.06,1.99,1.95,1.91,1.87,1.83,1.79,1.75,1.71])\n",
        "plt.plot(xaxis,y)\n",
        "plt.show()\n",
        "print(\"Test accuracy: training from scratch\")\n",
        "plt.figure()\n",
        "y = np.array([13,17,19,20,21,23,26,29,29,29])\n",
        "plt.plot(xaxis,y)\n",
        "plt.show()\n",
        "\n",
        "print(\"Training error: pretrained method 1\")\n",
        "plt.figure()\n",
        "y = np.array([6.66,1.78,1.13,0.91,0.782,0.707,0.640,0.596,0.557,0.521])\n",
        "plt.plot(xaxis,y)\n",
        "plt.show()\n",
        "print(\"Test accuracy: pretrained method 1\")\n",
        "plt.figure()\n",
        "y = np.array([44,46,49,50,52,52,52,52,53,54])\n",
        "plt.plot(xaxis,y)\n",
        "plt.show()\n",
        "\n",
        "print(\"Training error: pretrained method 2\")\n",
        "plt.figure()\n",
        "y = np.array([17.4,7.835,5.313,4.154,3.378,2.933,2.5,2.248,1.99,1.83])\n",
        "plt.plot(xaxis,y)\n",
        "plt.show()\n",
        "print(\"Test accuracy: pretrained method 2\")\n",
        "plt.figure()\n",
        "y = np.array([22,34,39,42,44,45,45,44,46,47])\n",
        "plt.plot(xaxis,y)\n",
        "plt.show()"
      ],
      "execution_count": 18,
      "outputs": [
        {
          "output_type": "stream",
          "text": [
            "Training error: training from scratch\n"
          ],
          "name": "stdout"
        },
        {
          "output_type": "display_data",
          "data": {
            "image/png": "[encoded data removed]",
            "text/plain": [
              "<matplotlib.figure.Figure at 0x7f643ef22518>"
            ]
          },
          "metadata": {
            "tags": []
          }
        },
        {
          "output_type": "stream",
          "text": [
            "Test accuracy: training from scratch\n"
          ],
          "name": "stdout"
        },
        {
          "output_type": "display_data",
          "data": {
            "image/png": "[encoded data removed]",
            "text/plain": [
              "<matplotlib.figure.Figure at 0x7f643eee54e0>"
            ]
          },
          "metadata": {
            "tags": []
          }
        },
        {
          "output_type": "stream",
          "text": [
            "Training error: training from scratch\n"
          ],
          "name": "stdout"
        },
        {
          "output_type": "display_data",
          "data": {
            "image/png": "[encoded data removed]",
            "text/plain": [
              "<matplotlib.figure.Figure at 0x7f643eebac18>"
            ]
          },
          "metadata": {
            "tags": []
          }
        },
        {
          "output_type": "stream",
          "text": [
            "Test accuracy: training from scratch\n"
          ],
          "name": "stdout"
        },
        {
          "output_type": "display_data",
          "data": {
            "image/png": "[encoded data removed]",
            "text/plain": [
              "<matplotlib.figure.Figure at 0x7f643ee04518>"
            ]
          },
          "metadata": {
            "tags": []
          }
        },
        {
          "output_type": "stream",
          "text": [
            "Training error: pretrained method 1\n"
          ],
          "name": "stdout"
        },
        {
          "output_type": "display_data",
          "data": {
            "image/png": "[encoded data removed]",
            "text/plain": [
              "<matplotlib.figure.Figure at 0x7f643eddadd8>"
            ]
          },
          "metadata": {
            "tags": []
          }
        },
        {
          "output_type": "stream",
          "text": [
            "Test accuracy: pretrained method 1\n"
          ],
          "name": "stdout"
        },
        {
          "output_type": "display_data",
          "data": {
            "image/png": "[encoded data removed]",
            "text/plain": [
              "<matplotlib.figure.Figure at 0x7f6452c76e80>"
            ]
          },
          "metadata": {
            "tags": []
          }
        },
        {
          "output_type": "stream",
          "text": [
            "Training error: pretrained method 2\n"
          ],
          "name": "stdout"
        },
        {
          "output_type": "display_data",
          "data": {
            "image/png": "[encoded data removed]",
            "text/plain": [
              "<matplotlib.figure.Figure at 0x7f643eddae10>"
            ]
          },
          "metadata": {
            "tags": []
          }
        },
        {
          "output_type": "stream",
          "text": [
            "Test accuracy: pretrained method 2\n"
          ],
          "name": "stdout"
        },
        {
          "output_type": "display_data",
          "data": {
            "image/png": "[encoded data removed]",
            "text/plain": [
              "<matplotlib.figure.Figure at 0x7f643ec7ee48>"
            ]
          },
          "metadata": {
            "tags": []
          }
        }
      ]
    }
  ]
}