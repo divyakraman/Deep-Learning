{
  "nbformat": 4,
  "nbformat_minor": 0,
  "metadata": {
    "colab": {
      "name": "Sem7_DL_Assignment1A",
      "version": "0.3.2",
      "provenance": [],
      "collapsed_sections": []
    },
    "kernelspec": {
      "display_name": "Python 3",
      "name": "python3"
    },
    "accelerator": "GPU"
  },
  "cells": [
    {
      "metadata": {
        "id": "5ZvqOXTkt-1E",
        "colab_type": "code",
        "colab": {
          "base_uri": "https://localhost:8080/",
          "height": 377
        },
        "outputId": "2c403516-830f-418e-dda2-2ad1a4b123a0"
      },
      "cell_type": "code",
      "source": [
        "!pip install torch torchvision tqdm\n",
        "import torch, os\n",
        "import torchvision\n",
        "import torchvision.transforms as transforms\n",
        "from tqdm import tqdm\n",
        "import torch.nn as nn\n",
        "import torch.nn.functional as F\n",
        "import torch.optim as optim"
      ],
      "execution_count": 1,
      "outputs": [
        {
          "output_type": "stream",
          "text": [
            "Collecting torch\n",
            "\u001b[?25l  Downloading https://files.pythonhosted.org/packages/49/0e/e382bcf1a6ae8225f50b99cc26effa2d4cc6d66975ccf3fa9590efcbedce/torch-0.4.1-cp36-cp36m-manylinux1_x86_64.whl (519.5MB)\n",
            "\u001b[K    100% |████████████████████████████████| 519.5MB 31kB/s \n",
            "tcmalloc: large alloc 1073750016 bytes == 0x585f6000 @  0x7f7b9a6511c4 0x46d6a4 0x5fcbcc 0x4c494d 0x54f3c4 0x553aaf 0x54e4c8 0x54f4f6 0x553aaf 0x54efc1 0x54f24d 0x553aaf 0x54efc1 0x54f24d 0x553aaf 0x54efc1 0x54f24d 0x551ee0 0x54e4c8 0x54f4f6 0x553aaf 0x54efc1 0x54f24d 0x551ee0 0x54efc1 0x54f24d 0x551ee0 0x54e4c8 0x54f4f6 0x553aaf 0x54e4c8\n",
            "\u001b[?25hCollecting torchvision\n",
            "\u001b[?25l  Downloading https://files.pythonhosted.org/packages/ca/0d/f00b2885711e08bd71242ebe7b96561e6f6d01fdb4b9dcf4d37e2e13c5e1/torchvision-0.2.1-py2.py3-none-any.whl (54kB)\n",
            "\u001b[K    100% |████████████████████████████████| 61kB 2.9MB/s \n",
            "\u001b[?25hCollecting tqdm\n",
            "\u001b[?25l  Downloading https://files.pythonhosted.org/packages/c7/e0/52b2faaef4fd87f86eb8a8f1afa2cd6eb11146822033e29c04ac48ada32c/tqdm-4.25.0-py2.py3-none-any.whl (43kB)\n",
            "\u001b[K    100% |████████████████████████████████| 51kB 13.1MB/s \n",
            "\u001b[?25hCollecting pillow>=4.1.1 (from torchvision)\n",
            "\u001b[?25l  Downloading https://files.pythonhosted.org/packages/d1/24/f53ff6b61b3d728b90934bddb4f03f8ab584a7f49299bf3bde56e2952612/Pillow-5.2.0-cp36-cp36m-manylinux1_x86_64.whl (2.0MB)\n",
            "\u001b[K    100% |████████████████████████████████| 2.0MB 4.0MB/s \n",
            "\u001b[?25hRequirement already satisfied: numpy in /usr/local/lib/python3.6/dist-packages (from torchvision) (1.14.5)\n",
            "Requirement already satisfied: six in /usr/local/lib/python3.6/dist-packages (from torchvision) (1.11.0)\n",
            "Installing collected packages: torch, pillow, torchvision, tqdm\n",
            "  Found existing installation: Pillow 4.0.0\n",
            "    Uninstalling Pillow-4.0.0:\n",
            "      Successfully uninstalled Pillow-4.0.0\n",
            "Successfully installed pillow-5.2.0 torch-0.4.1 torchvision-0.2.1 tqdm-4.25.0\n"
          ],
          "name": "stdout"
        }
      ]
    },
    {
      "metadata": {
        "id": "ucUq6t6m1C7e",
        "colab_type": "code",
        "colab": {
          "base_uri": "https://localhost:8080/",
          "height": 51
        },
        "outputId": "04d0830d-4c36-4dc3-8143-2a120d8c59aa"
      },
      "cell_type": "code",
      "source": [
        "transform = transforms.Compose([transforms.ToTensor(),])\n",
        "\n",
        "trainset = torchvision.datasets.CIFAR10(root='./data', train=True,\n",
        "                                        download=True, transform=transform)\n",
        "trainloader = torch.utils.data.DataLoader(trainset, batch_size=4,\n",
        "                                          shuffle=True, num_workers=2)\n",
        "\n",
        "testset = torchvision.datasets.CIFAR10(root='./data', train=False,\n",
        "                                       download=True, transform=transform)\n",
        "testloader = torch.utils.data.DataLoader(testset, batch_size=4,\n",
        "                                         shuffle=False, num_workers=2)\n",
        "\n",
        "classes = ('plane', 'car', 'bird', 'cat',\n",
        "           'deer', 'dog', 'frog', 'horse', 'ship', 'truck')"
      ],
      "execution_count": 2,
      "outputs": [
        {
          "output_type": "stream",
          "text": [
            "Downloading https://www.cs.toronto.edu/~kriz/cifar-10-python.tar.gz to ./data/cifar-10-python.tar.gz\n",
            "Files already downloaded and verified\n"
          ],
          "name": "stdout"
        }
      ]
    },
    {
      "metadata": {
        "id": "LT0AJmiY2if-",
        "colab_type": "code",
        "colab": {}
      },
      "cell_type": "code",
      "source": [
        "def train(epoch, trainloader, optimizer, criterion):\n",
        "    running_loss = 0.0\n",
        "    for i, data in enumerate(tqdm(trainloader), 0):\n",
        "        # get the inputs\n",
        "        inputs, labels = data\n",
        "        if torch.cuda.is_available():\n",
        "            inputs, labels = inputs.cuda(), labels.cuda()\n",
        "\n",
        "        # zero the parameter gradients\n",
        "        optimizer.zero_grad()\n",
        "\n",
        "        # forward + backward + optimize\n",
        "        outputs = net(inputs)\n",
        "        loss = criterion(outputs, labels)\n",
        "        loss.backward()\n",
        "        optimizer.step()\n",
        "\n",
        "        # print statistics\n",
        "        running_loss += loss.item()\n",
        "\n",
        "    print('epoch %d training loss: %.3f' %\n",
        "            (epoch + 1, running_loss / (len(trainloader))))"
      ],
      "execution_count": 0,
      "outputs": []
    },
    {
      "metadata": {
        "id": "X55umRMYxi-n",
        "colab_type": "code",
        "colab": {}
      },
      "cell_type": "code",
      "source": [
        "def test(testloader, model):\n",
        "    correct = 0\n",
        "    total = 0\n",
        "    with torch.no_grad():\n",
        "        for data in tqdm(testloader):\n",
        "            images, labels = data\n",
        "            if torch.cuda.is_available():\n",
        "                images, labels = images.cuda(), labels.cuda()        \n",
        "            outputs = net(images)\n",
        "            _, predicted = torch.max(outputs.data, 1)\n",
        "            total += labels.size(0)\n",
        "            correct += (predicted == labels).sum().item()\n",
        "\n",
        "    print('Accuracy of the network on the 10000 test images: %d %%' % (\n",
        "                                    100 * correct / total))"
      ],
      "execution_count": 0,
      "outputs": []
    },
    {
      "metadata": {
        "id": "vjsqJ8zZ2oAv",
        "colab_type": "code",
        "colab": {}
      },
      "cell_type": "code",
      "source": [
        "def classwise_test(testloader, model):\n",
        "########################################################################\n",
        "# class-wise accuracy\n",
        "\n",
        "    class_correct = list(0. for i in range(10))\n",
        "    class_total = list(0. for i in range(10))\n",
        "    with torch.no_grad():\n",
        "        for data in tqdm(testloader):\n",
        "            images, labels = data\n",
        "            if torch.cuda.is_available():\n",
        "                images, labels = images.cuda(), labels.cuda()        \n",
        "            outputs = net(images)\n",
        "            _, predicted = torch.max(outputs, 1)\n",
        "            c = (predicted == labels).squeeze()\n",
        "            for i in range(4):\n",
        "                label = labels[i]\n",
        "                class_correct[label] += c[i].item()\n",
        "                class_total[label] += 1\n",
        "\n",
        "    for i in range(10):\n",
        "        print('Accuracy of %5s : %2d %%' % (\n",
        "            classes[i], 100 * class_correct[i] / class_total[i]))\n"
      ],
      "execution_count": 0,
      "outputs": []
    },
    {
      "metadata": {
        "id": "ZSleIURVEpJ-",
        "colab_type": "code",
        "colab": {
          "base_uri": "https://localhost:8080/",
          "height": 1428
        },
        "outputId": "dad13c15-dae6-4a35-ffc8-5a9579f6c5b4"
      },
      "cell_type": "code",
      "source": [
        "num_epochs = 5\n",
        "learning_rate = 0.001\n",
        "class Net(nn.Module):\n",
        "    def __init__(self):\n",
        "        super(Net, self).__init__()\n",
        "        \n",
        "        self.conv1 = nn.Conv2d(in_channels=3, out_channels=256, kernel_size=5)#32-5+1=28\n",
        "        self.pool1 = nn.MaxPool2d(kernel_size=2, stride=2)#14\n",
        "        self.conv2 = nn.Conv2d(in_channels=256, out_channels=1024, kernel_size=3)#14-3+1=12\n",
        "        self.pool2 = nn.MaxPool2d(kernel_size=2, stride=2)#6\n",
        "        self.conv3 = nn.Conv2d(in_channels=1024, out_channels=2048, kernel_size=3)#6-3+1=4\n",
        "        self.pool3 = nn.MaxPool2d(kernel_size=2, stride=2)#2\n",
        "        self.conv4 = nn.Conv2d(in_channels=2048, out_channels=4096, kernel_size=1)#2\n",
        "        self.pool4= nn.MaxPool2d(kernel_size=2, stride=2)#1\n",
        "        self.fc1 = nn.Linear(in_features=4096*1*1, out_features=1024)\n",
        "        self.fc2 = nn.Linear(in_features=1024, out_features=256)\n",
        "        self.fc3 = nn.Linear(in_features=256, out_features=10)\n",
        "\n",
        "\n",
        "    def forward(self, x):\n",
        "        x = self.pool1(F.relu(self.conv1(x)))\n",
        "        x = self.pool2(F.relu(self.conv2(x)))\n",
        "        x = self.pool3(F.relu(self.conv3(x)))\n",
        "        x = self.pool4(F.relu(self.conv4(x)))\n",
        "        x = x.view(-1, 4096*1*1)\n",
        "        x = F.relu(self.fc1(x))\n",
        "        x = F.relu(self.fc2(x))\n",
        "        x = self.fc3(x)\n",
        "        return x\n",
        "net = Net()\n",
        "# transfer the model to GPU\n",
        "if torch.cuda.is_available():\n",
        "    net = net.cuda()\n",
        "    print(\"Using GPU\")\n",
        "\n",
        "criterion = nn.CrossEntropyLoss()\n",
        "optimizer = optim.SGD(net.parameters(), lr=learning_rate, momentum=0.9, weight_decay=0.001)\n",
        "\n",
        "print('Start Training')\n",
        "os.makedirs('./models', exist_ok=True)\n",
        "\n",
        "for epoch in range(num_epochs):  # loop over the dataset multiple times\n",
        "    print('epoch ', epoch + 1)\n",
        "    train(epoch, trainloader, optimizer, criterion)\n",
        "    test(testloader, net)\n",
        "    classwise_test(testloader, net)\n",
        "    torch.save(net.state_dict(), './models/model-'+str(epoch)+'.pth')\n",
        "\n",
        "print('Finished Training')"
      ],
      "execution_count": 7,
      "outputs": [
        {
          "output_type": "stream",
          "text": [
            "\r  0%|          | 0/12500 [00:00<?, ?it/s]"
          ],
          "name": "stderr"
        },
        {
          "output_type": "stream",
          "text": [
            "Using GPU\n",
            "Start Training\n",
            "epoch  1\n"
          ],
          "name": "stdout"
        },
        {
          "output_type": "stream",
          "text": [
            "100%|██████████| 12500/12500 [07:52<00:00, 26.48it/s]\n",
            "  0%|          | 0/2500 [00:00<?, ?it/s]"
          ],
          "name": "stderr"
        },
        {
          "output_type": "stream",
          "text": [
            "epoch 1 training loss: 2.012\n"
          ],
          "name": "stdout"
        },
        {
          "output_type": "stream",
          "text": [
            "100%|██████████| 2500/2500 [00:18<00:00, 131.95it/s]\n",
            "  0%|          | 0/2500 [00:00<?, ?it/s]"
          ],
          "name": "stderr"
        },
        {
          "output_type": "stream",
          "text": [
            "Accuracy of the network on the 10000 test images: 35 %\n"
          ],
          "name": "stdout"
        },
        {
          "output_type": "stream",
          "text": [
            "100%|██████████| 2500/2500 [00:20<00:00, 121.05it/s]\n",
            "  0%|          | 0/12500 [00:00<?, ?it/s]"
          ],
          "name": "stderr"
        },
        {
          "output_type": "stream",
          "text": [
            "Accuracy of plane : 24 %\n",
            "Accuracy of   car : 66 %\n",
            "Accuracy of  bird :  1 %\n",
            "Accuracy of   cat : 18 %\n",
            "Accuracy of  deer :  0 %\n",
            "Accuracy of   dog : 40 %\n",
            "Accuracy of  frog : 58 %\n",
            "Accuracy of horse : 69 %\n",
            "Accuracy of  ship : 46 %\n",
            "Accuracy of truck : 25 %\n",
            "epoch  2\n"
          ],
          "name": "stdout"
        },
        {
          "output_type": "stream",
          "text": [
            "100%|██████████| 12500/12500 [07:50<00:00, 26.59it/s]\n",
            "  0%|          | 0/2500 [00:00<?, ?it/s]"
          ],
          "name": "stderr"
        },
        {
          "output_type": "stream",
          "text": [
            "epoch 2 training loss: 1.561\n"
          ],
          "name": "stdout"
        },
        {
          "output_type": "stream",
          "text": [
            "100%|██████████| 2500/2500 [00:18<00:00, 133.46it/s]\n",
            "  0%|          | 0/2500 [00:00<?, ?it/s]"
          ],
          "name": "stderr"
        },
        {
          "output_type": "stream",
          "text": [
            "Accuracy of the network on the 10000 test images: 46 %\n"
          ],
          "name": "stdout"
        },
        {
          "output_type": "stream",
          "text": [
            "100%|██████████| 2500/2500 [00:20<00:00, 121.78it/s]\n",
            "  0%|          | 0/12500 [00:00<?, ?it/s]"
          ],
          "name": "stderr"
        },
        {
          "output_type": "stream",
          "text": [
            "Accuracy of plane : 22 %\n",
            "Accuracy of   car : 81 %\n",
            "Accuracy of  bird : 13 %\n",
            "Accuracy of   cat : 27 %\n",
            "Accuracy of  deer : 25 %\n",
            "Accuracy of   dog : 23 %\n",
            "Accuracy of  frog : 83 %\n",
            "Accuracy of horse : 61 %\n",
            "Accuracy of  ship : 70 %\n",
            "Accuracy of truck : 55 %\n",
            "epoch  3\n"
          ],
          "name": "stdout"
        },
        {
          "output_type": "stream",
          "text": [
            "100%|██████████| 12500/12500 [07:50<00:00, 26.58it/s]\n",
            "  0%|          | 0/2500 [00:00<?, ?it/s]"
          ],
          "name": "stderr"
        },
        {
          "output_type": "stream",
          "text": [
            "epoch 3 training loss: 1.279\n"
          ],
          "name": "stdout"
        },
        {
          "output_type": "stream",
          "text": [
            "100%|██████████| 2500/2500 [00:18<00:00, 132.45it/s]\n",
            "  0%|          | 0/2500 [00:00<?, ?it/s]"
          ],
          "name": "stderr"
        },
        {
          "output_type": "stream",
          "text": [
            "Accuracy of the network on the 10000 test images: 55 %\n"
          ],
          "name": "stdout"
        },
        {
          "output_type": "stream",
          "text": [
            "100%|██████████| 2500/2500 [00:20<00:00, 121.54it/s]\n",
            "  0%|          | 0/12500 [00:00<?, ?it/s]"
          ],
          "name": "stderr"
        },
        {
          "output_type": "stream",
          "text": [
            "Accuracy of plane : 53 %\n",
            "Accuracy of   car : 61 %\n",
            "Accuracy of  bird : 21 %\n",
            "Accuracy of   cat : 33 %\n",
            "Accuracy of  deer : 39 %\n",
            "Accuracy of   dog : 45 %\n",
            "Accuracy of  frog : 64 %\n",
            "Accuracy of horse : 70 %\n",
            "Accuracy of  ship : 87 %\n",
            "Accuracy of truck : 81 %\n",
            "epoch  4\n"
          ],
          "name": "stdout"
        },
        {
          "output_type": "stream",
          "text": [
            "100%|██████████| 12500/12500 [07:50<00:00, 26.57it/s]\n",
            "  0%|          | 0/2500 [00:00<?, ?it/s]"
          ],
          "name": "stderr"
        },
        {
          "output_type": "stream",
          "text": [
            "epoch 4 training loss: 1.059\n"
          ],
          "name": "stdout"
        },
        {
          "output_type": "stream",
          "text": [
            "100%|██████████| 2500/2500 [00:18<00:00, 133.06it/s]\n",
            "  0%|          | 0/2500 [00:00<?, ?it/s]"
          ],
          "name": "stderr"
        },
        {
          "output_type": "stream",
          "text": [
            "Accuracy of the network on the 10000 test images: 62 %\n"
          ],
          "name": "stdout"
        },
        {
          "output_type": "stream",
          "text": [
            "100%|██████████| 2500/2500 [00:20<00:00, 120.05it/s]\n"
          ],
          "name": "stderr"
        },
        {
          "output_type": "stream",
          "text": [
            "Accuracy of plane : 73 %\n",
            "Accuracy of   car : 87 %\n",
            "Accuracy of  bird : 63 %\n",
            "Accuracy of   cat :  7 %\n",
            "Accuracy of  deer : 62 %\n",
            "Accuracy of   dog : 61 %\n",
            "Accuracy of  frog : 56 %\n",
            "Accuracy of horse : 68 %\n",
            "Accuracy of  ship : 63 %\n",
            "Accuracy of truck : 75 %\n"
          ],
          "name": "stdout"
        },
        {
          "output_type": "stream",
          "text": [
            "\r  0%|          | 0/12500 [00:00<?, ?it/s]"
          ],
          "name": "stderr"
        },
        {
          "output_type": "stream",
          "text": [
            "epoch  5\n"
          ],
          "name": "stdout"
        },
        {
          "output_type": "stream",
          "text": [
            "100%|██████████| 12500/12500 [07:50<00:00, 26.57it/s]\n",
            "  0%|          | 0/2500 [00:00<?, ?it/s]"
          ],
          "name": "stderr"
        },
        {
          "output_type": "stream",
          "text": [
            "epoch 5 training loss: 0.890\n"
          ],
          "name": "stdout"
        },
        {
          "output_type": "stream",
          "text": [
            "100%|██████████| 2500/2500 [00:19<00:00, 129.89it/s]\n",
            "  0%|          | 0/2500 [00:00<?, ?it/s]"
          ],
          "name": "stderr"
        },
        {
          "output_type": "stream",
          "text": [
            "Accuracy of the network on the 10000 test images: 68 %\n"
          ],
          "name": "stdout"
        },
        {
          "output_type": "stream",
          "text": [
            "100%|██████████| 2500/2500 [00:20<00:00, 121.11it/s]\n"
          ],
          "name": "stderr"
        },
        {
          "output_type": "stream",
          "text": [
            "Accuracy of plane : 74 %\n",
            "Accuracy of   car : 75 %\n",
            "Accuracy of  bird : 58 %\n",
            "Accuracy of   cat : 46 %\n",
            "Accuracy of  deer : 69 %\n",
            "Accuracy of   dog : 54 %\n",
            "Accuracy of  frog : 80 %\n",
            "Accuracy of horse : 77 %\n",
            "Accuracy of  ship : 63 %\n",
            "Accuracy of truck : 82 %\n",
            "Finished Training\n"
          ],
          "name": "stdout"
        }
      ]
    },
    {
      "metadata": {
        "id": "OOvDG8XcFjc5",
        "colab_type": "code",
        "colab": {
          "base_uri": "https://localhost:8080/",
          "height": 2771
        },
        "outputId": "f84edeb3-bb66-43d6-d74f-846824b47df8"
      },
      "cell_type": "code",
      "source": [
        "print('Epoch 6 to 15')\n",
        "for epoch in range(5,15):  # loop over the dataset multiple times\n",
        "    print('epoch ', epoch + 1)\n",
        "    train(epoch, trainloader, optimizer, criterion)\n",
        "    test(testloader, net)\n",
        "    classwise_test(testloader, net)\n",
        "    torch.save(net.state_dict(), './models/model-'+str(epoch)+'.pth')\n",
        "\n",
        "print('Finished Training')"
      ],
      "execution_count": 8,
      "outputs": [
        {
          "output_type": "stream",
          "text": [
            "\r  0%|          | 0/12500 [00:00<?, ?it/s]"
          ],
          "name": "stderr"
        },
        {
          "output_type": "stream",
          "text": [
            "Epoch 6 to 15\n",
            "epoch  6\n"
          ],
          "name": "stdout"
        },
        {
          "output_type": "stream",
          "text": [
            "100%|██████████| 12500/12500 [07:53<00:00, 26.41it/s]\n",
            "  0%|          | 0/2500 [00:00<?, ?it/s]"
          ],
          "name": "stderr"
        },
        {
          "output_type": "stream",
          "text": [
            "epoch 6 training loss: 0.746\n"
          ],
          "name": "stdout"
        },
        {
          "output_type": "stream",
          "text": [
            "100%|██████████| 2500/2500 [00:19<00:00, 130.83it/s]\n",
            "  0%|          | 0/2500 [00:00<?, ?it/s]"
          ],
          "name": "stderr"
        },
        {
          "output_type": "stream",
          "text": [
            "Accuracy of the network on the 10000 test images: 70 %\n"
          ],
          "name": "stdout"
        },
        {
          "output_type": "stream",
          "text": [
            "100%|██████████| 2500/2500 [00:21<00:00, 118.87it/s]\n",
            "  0%|          | 0/12500 [00:00<?, ?it/s]"
          ],
          "name": "stderr"
        },
        {
          "output_type": "stream",
          "text": [
            "Accuracy of plane : 76 %\n",
            "Accuracy of   car : 92 %\n",
            "Accuracy of  bird : 63 %\n",
            "Accuracy of   cat : 24 %\n",
            "Accuracy of  deer : 68 %\n",
            "Accuracy of   dog : 65 %\n",
            "Accuracy of  frog : 82 %\n",
            "Accuracy of horse : 86 %\n",
            "Accuracy of  ship : 81 %\n",
            "Accuracy of truck : 65 %\n",
            "epoch  7\n"
          ],
          "name": "stdout"
        },
        {
          "output_type": "stream",
          "text": [
            "100%|██████████| 12500/12500 [07:52<00:00, 26.48it/s]\n",
            "  0%|          | 0/2500 [00:00<?, ?it/s]"
          ],
          "name": "stderr"
        },
        {
          "output_type": "stream",
          "text": [
            "epoch 7 training loss: 0.624\n"
          ],
          "name": "stdout"
        },
        {
          "output_type": "stream",
          "text": [
            "100%|██████████| 2500/2500 [00:19<00:00, 131.31it/s]\n",
            "  0%|          | 0/2500 [00:00<?, ?it/s]"
          ],
          "name": "stderr"
        },
        {
          "output_type": "stream",
          "text": [
            "Accuracy of the network on the 10000 test images: 73 %\n"
          ],
          "name": "stdout"
        },
        {
          "output_type": "stream",
          "text": [
            "100%|██████████| 2500/2500 [00:20<00:00, 119.42it/s]\n"
          ],
          "name": "stderr"
        },
        {
          "output_type": "stream",
          "text": [
            "Accuracy of plane : 74 %\n",
            "Accuracy of   car : 87 %\n",
            "Accuracy of  bird : 68 %\n",
            "Accuracy of   cat : 53 %\n",
            "Accuracy of  deer : 60 %\n",
            "Accuracy of   dog : 69 %\n",
            "Accuracy of  frog : 81 %\n",
            "Accuracy of horse : 78 %\n",
            "Accuracy of  ship : 81 %\n",
            "Accuracy of truck : 80 %\n"
          ],
          "name": "stdout"
        },
        {
          "output_type": "stream",
          "text": [
            "\r  0%|          | 0/12500 [00:00<?, ?it/s]"
          ],
          "name": "stderr"
        },
        {
          "output_type": "stream",
          "text": [
            "epoch  8\n"
          ],
          "name": "stdout"
        },
        {
          "output_type": "stream",
          "text": [
            "100%|██████████| 12500/12500 [07:55<00:00, 26.27it/s]\n",
            "  0%|          | 0/2500 [00:00<?, ?it/s]"
          ],
          "name": "stderr"
        },
        {
          "output_type": "stream",
          "text": [
            "epoch 8 training loss: 0.509\n"
          ],
          "name": "stdout"
        },
        {
          "output_type": "stream",
          "text": [
            "100%|██████████| 2500/2500 [00:19<00:00, 129.94it/s]\n",
            "  0%|          | 0/2500 [00:00<?, ?it/s]"
          ],
          "name": "stderr"
        },
        {
          "output_type": "stream",
          "text": [
            "Accuracy of the network on the 10000 test images: 70 %\n"
          ],
          "name": "stdout"
        },
        {
          "output_type": "stream",
          "text": [
            "100%|██████████| 2500/2500 [00:21<00:00, 118.18it/s]\n",
            "  0%|          | 0/12500 [00:00<?, ?it/s]"
          ],
          "name": "stderr"
        },
        {
          "output_type": "stream",
          "text": [
            "Accuracy of plane : 88 %\n",
            "Accuracy of   car : 87 %\n",
            "Accuracy of  bird : 65 %\n",
            "Accuracy of   cat : 26 %\n",
            "Accuracy of  deer : 76 %\n",
            "Accuracy of   dog : 77 %\n",
            "Accuracy of  frog : 58 %\n",
            "Accuracy of horse : 78 %\n",
            "Accuracy of  ship : 74 %\n",
            "Accuracy of truck : 74 %\n",
            "epoch  9\n"
          ],
          "name": "stdout"
        },
        {
          "output_type": "stream",
          "text": [
            "100%|██████████| 12500/12500 [07:55<00:00, 26.29it/s]\n",
            "  0%|          | 0/2500 [00:00<?, ?it/s]"
          ],
          "name": "stderr"
        },
        {
          "output_type": "stream",
          "text": [
            "epoch 9 training loss: 0.417\n"
          ],
          "name": "stdout"
        },
        {
          "output_type": "stream",
          "text": [
            "100%|██████████| 2500/2500 [00:19<00:00, 127.23it/s]\n",
            "  0%|          | 0/2500 [00:00<?, ?it/s]"
          ],
          "name": "stderr"
        },
        {
          "output_type": "stream",
          "text": [
            "Accuracy of the network on the 10000 test images: 74 %\n"
          ],
          "name": "stdout"
        },
        {
          "output_type": "stream",
          "text": [
            "100%|██████████| 2500/2500 [00:21<00:00, 118.03it/s]\n",
            "  0%|          | 0/12500 [00:00<?, ?it/s]"
          ],
          "name": "stderr"
        },
        {
          "output_type": "stream",
          "text": [
            "Accuracy of plane : 79 %\n",
            "Accuracy of   car : 88 %\n",
            "Accuracy of  bird : 66 %\n",
            "Accuracy of   cat : 55 %\n",
            "Accuracy of  deer : 74 %\n",
            "Accuracy of   dog : 70 %\n",
            "Accuracy of  frog : 85 %\n",
            "Accuracy of horse : 70 %\n",
            "Accuracy of  ship : 84 %\n",
            "Accuracy of truck : 71 %\n",
            "epoch  10\n"
          ],
          "name": "stdout"
        },
        {
          "output_type": "stream",
          "text": [
            "100%|██████████| 12500/12500 [07:55<00:00, 26.28it/s]\n",
            "  0%|          | 0/2500 [00:00<?, ?it/s]"
          ],
          "name": "stderr"
        },
        {
          "output_type": "stream",
          "text": [
            "epoch 10 training loss: 0.334\n"
          ],
          "name": "stdout"
        },
        {
          "output_type": "stream",
          "text": [
            "100%|██████████| 2500/2500 [00:19<00:00, 129.94it/s]\n",
            "  0%|          | 0/2500 [00:00<?, ?it/s]"
          ],
          "name": "stderr"
        },
        {
          "output_type": "stream",
          "text": [
            "Accuracy of the network on the 10000 test images: 75 %\n"
          ],
          "name": "stdout"
        },
        {
          "output_type": "stream",
          "text": [
            "100%|██████████| 2500/2500 [00:21<00:00, 117.57it/s]\n"
          ],
          "name": "stderr"
        },
        {
          "output_type": "stream",
          "text": [
            "Accuracy of plane : 82 %\n",
            "Accuracy of   car : 80 %\n",
            "Accuracy of  bird : 69 %\n",
            "Accuracy of   cat : 72 %\n",
            "Accuracy of  deer : 63 %\n",
            "Accuracy of   dog : 62 %\n",
            "Accuracy of  frog : 73 %\n",
            "Accuracy of horse : 80 %\n",
            "Accuracy of  ship : 83 %\n",
            "Accuracy of truck : 82 %\n"
          ],
          "name": "stdout"
        },
        {
          "output_type": "stream",
          "text": [
            "\r  0%|          | 0/12500 [00:00<?, ?it/s]"
          ],
          "name": "stderr"
        },
        {
          "output_type": "stream",
          "text": [
            "epoch  11\n"
          ],
          "name": "stdout"
        },
        {
          "output_type": "stream",
          "text": [
            "100%|██████████| 12500/12500 [07:55<00:00, 26.27it/s]\n",
            "  0%|          | 0/2500 [00:00<?, ?it/s]"
          ],
          "name": "stderr"
        },
        {
          "output_type": "stream",
          "text": [
            "epoch 11 training loss: 0.277\n"
          ],
          "name": "stdout"
        },
        {
          "output_type": "stream",
          "text": [
            "100%|██████████| 2500/2500 [00:19<00:00, 130.10it/s]\n",
            "  0%|          | 0/2500 [00:00<?, ?it/s]"
          ],
          "name": "stderr"
        },
        {
          "output_type": "stream",
          "text": [
            "Accuracy of the network on the 10000 test images: 74 %\n"
          ],
          "name": "stdout"
        },
        {
          "output_type": "stream",
          "text": [
            "100%|██████████| 2500/2500 [00:21<00:00, 118.09it/s]\n"
          ],
          "name": "stderr"
        },
        {
          "output_type": "stream",
          "text": [
            "Accuracy of plane : 86 %\n",
            "Accuracy of   car : 92 %\n",
            "Accuracy of  bird : 72 %\n",
            "Accuracy of   cat : 43 %\n",
            "Accuracy of  deer : 72 %\n",
            "Accuracy of   dog : 63 %\n",
            "Accuracy of  frog : 73 %\n",
            "Accuracy of horse : 83 %\n",
            "Accuracy of  ship : 75 %\n",
            "Accuracy of truck : 83 %\n"
          ],
          "name": "stdout"
        },
        {
          "output_type": "stream",
          "text": [
            "\r  0%|          | 0/12500 [00:00<?, ?it/s]"
          ],
          "name": "stderr"
        },
        {
          "output_type": "stream",
          "text": [
            "epoch  12\n"
          ],
          "name": "stdout"
        },
        {
          "output_type": "stream",
          "text": [
            "100%|██████████| 12500/12500 [07:55<00:00, 26.28it/s]\n",
            "  0%|          | 0/2500 [00:00<?, ?it/s]"
          ],
          "name": "stderr"
        },
        {
          "output_type": "stream",
          "text": [
            "epoch 12 training loss: 0.233\n"
          ],
          "name": "stdout"
        },
        {
          "output_type": "stream",
          "text": [
            "100%|██████████| 2500/2500 [00:19<00:00, 127.92it/s]\n",
            "  0%|          | 0/2500 [00:00<?, ?it/s]"
          ],
          "name": "stderr"
        },
        {
          "output_type": "stream",
          "text": [
            "Accuracy of the network on the 10000 test images: 73 %\n"
          ],
          "name": "stdout"
        },
        {
          "output_type": "stream",
          "text": [
            "100%|██████████| 2500/2500 [00:21<00:00, 117.89it/s]\n",
            "  0%|          | 0/12500 [00:00<?, ?it/s]"
          ],
          "name": "stderr"
        },
        {
          "output_type": "stream",
          "text": [
            "Accuracy of plane : 85 %\n",
            "Accuracy of   car : 84 %\n",
            "Accuracy of  bird : 73 %\n",
            "Accuracy of   cat : 58 %\n",
            "Accuracy of  deer : 68 %\n",
            "Accuracy of   dog : 60 %\n",
            "Accuracy of  frog : 65 %\n",
            "Accuracy of horse : 79 %\n",
            "Accuracy of  ship : 80 %\n",
            "Accuracy of truck : 81 %\n",
            "epoch  13\n"
          ],
          "name": "stdout"
        },
        {
          "output_type": "stream",
          "text": [
            "100%|██████████| 12500/12500 [07:55<00:00, 26.31it/s]\n",
            "  0%|          | 0/2500 [00:00<?, ?it/s]"
          ],
          "name": "stderr"
        },
        {
          "output_type": "stream",
          "text": [
            "epoch 13 training loss: 0.194\n"
          ],
          "name": "stdout"
        },
        {
          "output_type": "stream",
          "text": [
            "100%|██████████| 2500/2500 [00:19<00:00, 129.88it/s]\n",
            "  0%|          | 0/2500 [00:00<?, ?it/s]"
          ],
          "name": "stderr"
        },
        {
          "output_type": "stream",
          "text": [
            "Accuracy of the network on the 10000 test images: 74 %\n"
          ],
          "name": "stdout"
        },
        {
          "output_type": "stream",
          "text": [
            "100%|██████████| 2500/2500 [00:21<00:00, 117.95it/s]\n"
          ],
          "name": "stderr"
        },
        {
          "output_type": "stream",
          "text": [
            "Accuracy of plane : 80 %\n",
            "Accuracy of   car : 88 %\n",
            "Accuracy of  bird : 70 %\n",
            "Accuracy of   cat : 41 %\n",
            "Accuracy of  deer : 61 %\n",
            "Accuracy of   dog : 79 %\n",
            "Accuracy of  frog : 73 %\n",
            "Accuracy of horse : 84 %\n",
            "Accuracy of  ship : 83 %\n",
            "Accuracy of truck : 84 %\n"
          ],
          "name": "stdout"
        },
        {
          "output_type": "stream",
          "text": [
            "\r  0%|          | 0/12500 [00:00<?, ?it/s]"
          ],
          "name": "stderr"
        },
        {
          "output_type": "stream",
          "text": [
            "epoch  14\n"
          ],
          "name": "stdout"
        },
        {
          "output_type": "stream",
          "text": [
            "100%|██████████| 12500/12500 [07:55<00:00, 26.32it/s]\n",
            "  0%|          | 0/2500 [00:00<?, ?it/s]"
          ],
          "name": "stderr"
        },
        {
          "output_type": "stream",
          "text": [
            "epoch 14 training loss: 0.174\n"
          ],
          "name": "stdout"
        },
        {
          "output_type": "stream",
          "text": [
            "100%|██████████| 2500/2500 [00:19<00:00, 130.17it/s]\n",
            "  0%|          | 0/2500 [00:00<?, ?it/s]"
          ],
          "name": "stderr"
        },
        {
          "output_type": "stream",
          "text": [
            "Accuracy of the network on the 10000 test images: 74 %\n"
          ],
          "name": "stdout"
        },
        {
          "output_type": "stream",
          "text": [
            "100%|██████████| 2500/2500 [00:21<00:00, 117.97it/s]\n",
            "  0%|          | 0/12500 [00:00<?, ?it/s]"
          ],
          "name": "stderr"
        },
        {
          "output_type": "stream",
          "text": [
            "Accuracy of plane : 70 %\n",
            "Accuracy of   car : 79 %\n",
            "Accuracy of  bird : 63 %\n",
            "Accuracy of   cat : 45 %\n",
            "Accuracy of  deer : 82 %\n",
            "Accuracy of   dog : 74 %\n",
            "Accuracy of  frog : 83 %\n",
            "Accuracy of horse : 83 %\n",
            "Accuracy of  ship : 77 %\n",
            "Accuracy of truck : 87 %\n",
            "epoch  15\n"
          ],
          "name": "stdout"
        },
        {
          "output_type": "stream",
          "text": [
            "100%|██████████| 12500/12500 [07:58<00:00, 26.10it/s]\n",
            "  0%|          | 0/2500 [00:00<?, ?it/s]"
          ],
          "name": "stderr"
        },
        {
          "output_type": "stream",
          "text": [
            "epoch 15 training loss: 0.163\n"
          ],
          "name": "stdout"
        },
        {
          "output_type": "stream",
          "text": [
            "100%|██████████| 2500/2500 [00:19<00:00, 127.94it/s]\n",
            "  0%|          | 0/2500 [00:00<?, ?it/s]"
          ],
          "name": "stderr"
        },
        {
          "output_type": "stream",
          "text": [
            "Accuracy of the network on the 10000 test images: 75 %\n"
          ],
          "name": "stdout"
        },
        {
          "output_type": "stream",
          "text": [
            "100%|██████████| 2500/2500 [00:21<00:00, 117.74it/s]\n"
          ],
          "name": "stderr"
        },
        {
          "output_type": "stream",
          "text": [
            "Accuracy of plane : 75 %\n",
            "Accuracy of   car : 76 %\n",
            "Accuracy of  bird : 72 %\n",
            "Accuracy of   cat : 54 %\n",
            "Accuracy of  deer : 74 %\n",
            "Accuracy of   dog : 57 %\n",
            "Accuracy of  frog : 83 %\n",
            "Accuracy of horse : 85 %\n",
            "Accuracy of  ship : 90 %\n",
            "Accuracy of truck : 89 %\n",
            "Finished Training\n"
          ],
          "name": "stdout"
        }
      ]
    }
  ]
}